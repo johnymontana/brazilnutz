{
 "metadata": {
  "name": ""
 },
 "nbformat": 3,
 "nbformat_minor": 0,
 "worksheets": [
  {
   "cells": [
    {
     "cell_type": "code",
     "collapsed": false,
     "input": [
      "#!/usr/bin/python\n",
      "import particles\n",
      "#from  particles import *\n",
      "from pylab import *\n",
      "from particleInitialize import *\n",
      "#from OpenGL.GL import *\n",
      "#from OpenGL.GLUT import *\n",
      "import sys, time\n",
      "reload(particles)\n",
      "\n",
      "\n",
      "# This program is a 'driver' for a simple simulation of partilces in a box with\n",
      "# periodic boundary conditions. Your objective will be to complete the code here\n",
      "# so that you can 'see' the particles with OpenGL.\n",
      "\n",
      "tStart = t0 = time.time()\n",
      "\n",
      "dt = 0.1   # Time step taken by the time integration routine.\n",
      "L = 10.    # Size of the box.\n",
      "t = 0      # Initial time\n",
      "\n",
      "# Particle update data:\n",
      "COUNT = 1                    # Number of time steps computed\n",
      "UPDATE_FRAMES = 2            # How often to redraw screen\n",
      "ADD_PARTICLE_INTERVAL = 10   # How often to add a new particle\n",
      "\n",
      "# How resolved are the spheres?\n",
      "STACKS = 25\n",
      "SLICES = 25\n",
      "MAX_PART = 150\n",
      "NUM_PART = 0\n",
      "MAX_BRAZIL = 5\n",
      "NUM_BRAZIL = 0\n",
      "\n",
      "# Instantiate the forces function between particles\n",
      "f = particles.GranularMaterialForce()\n",
      "# Create some particles and a box\n",
      "p = particles.Particles(L,f,periodicY=0)\n",
      "particleInitialize(p,'one',L)\n",
      "# Instantiate Integrator\n",
      "integrate = particles.VerletIntegrator(dt)\n",
      "\n",
      "#def init():\n",
      "#\n",
      "#def draw():\n",
      "\n",
      "def idle():\n",
      "    global COUNT\n",
      "    global NUM_PART\n",
      "    global NUM_BRAZIL\n",
      "    for i in range(UPDATE_FRAMES):\n",
      "        integrate(f,p) # Move the system forward in time\n",
      "        COUNT = COUNT + 1\n",
      "        if mod(COUNT,ADD_PARTICLE_INTERVAL) == 0:\n",
      "            # Syntax is addParticle(x,y,z,vx,vy,vz,radius)\n",
      "            # Note y is into page.\n",
      "            if NUM_PART < MAX_PART:\n",
      "                p.addParticle(.25*randn(), L, .25*randn(), 0., 0., 0., 1.)\n",
      "                NUM_PART += 1\n",
      "                print(\"Particles: \" + str(NUM_PART))\n",
      "            if NUM_BRAZIL < MAX_BRAZIL:\n",
      "                p.addParticle(0.25*randn(), L, 0.25*randn(), 0., 0., 0., 3.)\n",
      "                NUM_BRAZIL += 1\n",
      "           #p.log()\n",
      "        f(p)  # Update forces\n",
      "    #glutPostRedisplay()\n",
      "\n",
      "#def key(k, x, y):\n",
      "\n",
      "#def special(k, x, y):\n",
      "\n",
      "#def reshape(width, height):\n",
      "\n",
      "#def visible(vis):\n",
      "\n",
      "if __name__ == '__main__':\n",
      "\n",
      "    # Open a window\n",
      "\n",
      "    # Initialize\n",
      "    #init()\n",
      "\n",
      "    # Hand off control to event loop\n",
      "    #glutMainLoop()\n",
      "\n",
      "    for i in range(1000):\n",
      "        idle()\n",
      "        print (\"Idle calls: \" + str(i))\n",
      "\n",
      "    p.log()\n",
      "\n"
     ],
     "language": "python",
     "metadata": {},
     "outputs": [
      {
       "output_type": "stream",
       "stream": "stdout",
       "text": [
        "Idle calls: 0\n",
        "Idle calls: 1\n",
        "Idle calls: 2\n",
        "Idle calls: 3\n",
        "Particles: 1\n",
        "Idle calls: 4\n",
        "Idle calls: 5\n",
        "Idle calls: 6\n",
        "Idle calls: 7\n",
        "Idle calls: 8\n",
        "Particles: 2\n",
        "Idle calls: 9\n",
        "Idle calls: 10\n",
        "Idle calls: 11\n",
        "Idle calls: 12\n",
        "Idle calls: 13\n",
        "Particles: 3\n",
        "Idle calls: 14\n",
        "Idle calls: 15\n",
        "Idle calls: 16"
       ]
      },
      {
       "output_type": "stream",
       "stream": "stdout",
       "text": [
        "\n",
        "Idle calls: 17\n",
        "Idle calls: 18\n",
        "Particles: 4\n",
        "Idle calls: 19\n",
        "Idle calls: 20\n",
        "Idle calls: 21\n",
        "Idle calls: 22\n",
        "Idle calls: 23\n",
        "Particles: 5\n",
        "Idle calls: 24\n",
        "Idle calls: 25\n",
        "Idle calls: 26\n",
        "Idle calls: 27\n",
        "Idle calls: 28"
       ]
      },
      {
       "output_type": "stream",
       "stream": "stdout",
       "text": [
        "\n",
        "Particles: 6\n",
        "Idle calls: 29\n",
        "Idle calls: 30\n",
        "Idle calls: 31\n",
        "Idle calls: 32\n",
        "Idle calls: 33\n",
        "Particles: 7\n",
        "Idle calls: 34\n",
        "Idle calls: 35\n",
        "Idle calls: 36"
       ]
      },
      {
       "output_type": "stream",
       "stream": "stdout",
       "text": [
        "\n",
        "Idle calls: 37\n",
        "Idle calls: 38\n",
        "Particles: 8\n",
        "Idle calls: 39\n",
        "Idle calls: 40\n",
        "Idle calls: 41\n",
        "Idle calls: 42\n",
        "Idle calls: 43\n",
        "Particles: 9\n",
        "Idle calls: 44\n",
        "Idle calls: 45\n",
        "Idle calls: 46\n",
        "Idle calls: 47\n",
        "Idle calls: 48\n",
        "Particles: 10\n",
        "Idle calls: 49\n",
        "Idle calls: 50\n",
        "Idle calls: 51\n",
        "Idle calls: 52\n",
        "Idle calls: 53\n",
        "Particles: 11\n",
        "Idle calls: 54"
       ]
      },
      {
       "output_type": "stream",
       "stream": "stdout",
       "text": [
        "\n",
        "Idle calls: 55\n",
        "Idle calls: 56\n",
        "Idle calls: 57\n",
        "Idle calls: 58\n",
        "Particles: 12\n",
        "Idle calls: 59\n",
        "Idle calls: 60\n",
        "Idle calls: 61\n",
        "Idle calls: 62\n",
        "Idle calls: 63\n",
        "Particles: 13\n",
        "Idle calls: 64\n",
        "Idle calls: 65\n",
        "Idle calls: 66\n",
        "Idle calls: 67\n",
        "Idle calls: 68\n",
        "Particles: 14\n",
        "Idle calls: 69\n",
        "Idle calls: 70\n",
        "Idle calls: 71\n",
        "Idle calls: 72\n",
        "Idle calls: 73\n",
        "Particles: 15\n",
        "Idle calls: 74\n",
        "Idle calls: 75\n",
        "Idle calls: 76"
       ]
      },
      {
       "output_type": "stream",
       "stream": "stdout",
       "text": [
        "\n",
        "Idle calls: 77\n",
        "Idle calls: 78\n",
        "Particles: 16\n",
        "Idle calls: 79\n",
        "Idle calls: 80\n",
        "Idle calls: 81\n",
        "Idle calls: 82\n",
        "Idle calls: 83\n",
        "Particles: 17\n",
        "Idle calls: 84\n",
        "Idle calls: 85\n",
        "Idle calls: 86\n",
        "Idle calls: 87\n",
        "Idle calls: 88\n",
        "Particles: 18\n",
        "Idle calls: 89\n",
        "Idle calls: 90\n",
        "Idle calls: 91\n",
        "Idle calls: 92\n",
        "Idle calls: 93\n",
        "Particles: 19\n",
        "Idle calls: 94\n",
        "Idle calls: 95\n",
        "Idle calls: 96\n",
        "Idle calls: 97\n",
        "Idle calls: 98\n",
        "Particles: 20\n",
        "Idle calls: 99\n",
        "Idle calls: 100"
       ]
      },
      {
       "output_type": "stream",
       "stream": "stdout",
       "text": [
        "\n",
        "Idle calls: 101\n",
        "Idle calls: 102\n",
        "Idle calls: 103\n",
        "Particles: 21\n",
        "Idle calls: 104\n",
        "Idle calls: 105\n",
        "Idle calls: 106\n",
        "Idle calls: 107\n",
        "Idle calls: 108\n",
        "Particles: 22\n",
        "Idle calls: 109\n",
        "Idle calls: 110\n",
        "Idle calls: 111\n",
        "Idle calls: 112\n",
        "Idle calls: 113\n",
        "Particles: 23\n",
        "Idle calls: 114\n",
        "Idle calls: 115\n",
        "Idle calls: 116\n",
        "Idle calls: 117\n",
        "Idle calls: 118\n",
        "Particles: 24"
       ]
      },
      {
       "output_type": "stream",
       "stream": "stdout",
       "text": [
        "\n",
        "Idle calls: 119\n",
        "Idle calls: 120\n",
        "Idle calls: 121\n",
        "Idle calls: 122\n",
        "Idle calls: 123\n",
        "Particles: 25\n",
        "Idle calls: 124\n",
        "Idle calls: 125\n",
        "Idle calls: 126\n",
        "Idle calls: 127\n",
        "Idle calls: 128\n",
        "Particles: 26\n",
        "Idle calls: 129\n",
        "Idle calls: 130\n",
        "Idle calls: 131\n",
        "Idle calls: 132"
       ]
      },
      {
       "output_type": "stream",
       "stream": "stdout",
       "text": [
        "\n",
        "Idle calls: 133\n",
        "Particles: 27\n",
        "Idle calls: 134\n",
        "Idle calls: 135\n",
        "Idle calls: 136\n",
        "Idle calls: 137\n",
        "Idle calls: 138\n",
        "Particles: 28\n",
        "Idle calls: 139\n",
        "Idle calls: 140\n",
        "Idle calls: 141\n",
        "Idle calls: 142\n",
        "Idle calls: 143\n",
        "Particles: 29\n",
        "Idle calls: 144\n",
        "Idle calls: 145"
       ]
      },
      {
       "output_type": "stream",
       "stream": "stdout",
       "text": [
        "\n",
        "Idle calls: 146\n",
        "Idle calls: 147\n",
        "Idle calls: 148\n",
        "Particles: 30\n",
        "Idle calls: 149\n",
        "Idle calls: 150\n",
        "Idle calls: 151\n",
        "Idle calls: 152\n",
        "Idle calls: 153\n",
        "Particles: 31\n",
        "Idle calls: 154\n",
        "Idle calls: 155\n",
        "Idle calls: 156\n",
        "Idle calls: 157\n",
        "Idle calls: 158"
       ]
      },
      {
       "output_type": "stream",
       "stream": "stdout",
       "text": [
        "\n",
        "Particles: 32\n",
        "Idle calls: 159\n",
        "Idle calls: 160\n",
        "Idle calls: 161\n",
        "Idle calls: 162\n",
        "Idle calls: 163\n",
        "Particles: 33\n",
        "Idle calls: 164\n",
        "Idle calls: 165\n",
        "Idle calls: 166\n",
        "Idle calls: 167\n",
        "Idle calls: 168\n",
        "Particles: 34\n",
        "Idle calls: 169\n",
        "Idle calls: 170\n",
        "Idle calls: 171\n",
        "Idle calls: 172"
       ]
      },
      {
       "output_type": "stream",
       "stream": "stdout",
       "text": [
        "\n",
        "Idle calls: 173\n",
        "Particles: 35\n",
        "Idle calls: 174\n",
        "Idle calls: 175\n",
        "Idle calls: 176\n",
        "Idle calls: 177\n",
        "Idle calls: 178\n",
        "Particles: 36\n",
        "Idle calls: 179\n",
        "Idle calls: 180\n",
        "Idle calls: 181\n",
        "Idle calls: 182\n",
        "Idle calls: 183\n",
        "Particles: 37\n",
        "Idle calls: 184\n",
        "Idle calls: 185\n",
        "Idle calls: 186"
       ]
      },
      {
       "output_type": "stream",
       "stream": "stdout",
       "text": [
        "\n",
        "Idle calls: 187\n",
        "Idle calls: 188\n",
        "Particles: 38\n",
        "Idle calls: 189\n",
        "Idle calls: 190\n",
        "Idle calls: 191\n",
        "Idle calls: 192\n",
        "Idle calls: 193\n",
        "Particles: 39\n",
        "Idle calls: 194\n",
        "Idle calls: 195\n",
        "Idle calls: 196\n",
        "Idle calls: 197"
       ]
      },
      {
       "output_type": "stream",
       "stream": "stdout",
       "text": [
        "\n",
        "Idle calls: 198\n",
        "Particles: 40\n",
        "Idle calls: 199\n",
        "Idle calls: 200\n",
        "Idle calls: 201\n",
        "Idle calls: 202\n",
        "Idle calls: 203\n",
        "Particles: 41\n",
        "Idle calls: 204\n",
        "Idle calls: 205\n",
        "Idle calls: 206\n",
        "Idle calls: 207\n",
        "Idle calls: 208\n",
        "Particles: 42\n",
        "Idle calls: 209\n",
        "Idle calls: 210"
       ]
      },
      {
       "output_type": "stream",
       "stream": "stdout",
       "text": [
        "\n",
        "Idle calls: 211\n",
        "Idle calls: 212\n",
        "Idle calls: 213\n",
        "Particles: 43\n",
        "Idle calls: 214\n",
        "Idle calls: 215\n",
        "Idle calls: 216\n",
        "Idle calls: 217\n",
        "Idle calls: 218\n",
        "Particles: 44\n",
        "Idle calls: 219\n",
        "Idle calls: 220\n",
        "Idle calls: 221"
       ]
      },
      {
       "output_type": "stream",
       "stream": "stdout",
       "text": [
        "\n",
        "Idle calls: 222\n",
        "Idle calls: 223\n",
        "Particles: 45\n",
        "Idle calls: 224\n",
        "Idle calls: 225\n",
        "Idle calls: 226\n",
        "Idle calls: 227\n",
        "Idle calls: 228\n",
        "Particles: 46\n",
        "Idle calls: 229\n",
        "Idle calls: 230\n",
        "Idle calls: 231\n",
        "Idle calls: 232\n",
        "Idle calls: 233\n",
        "Particles: 47\n",
        "Idle calls: 234"
       ]
      },
      {
       "output_type": "stream",
       "stream": "stdout",
       "text": [
        "\n",
        "Idle calls: 235\n",
        "Idle calls: 236\n",
        "Idle calls: 237\n",
        "Idle calls: 238\n",
        "Particles: 48\n",
        "Idle calls: 239\n",
        "Idle calls: 240\n",
        "Idle calls: 241\n",
        "Idle calls: 242\n",
        "Idle calls: 243\n",
        "Particles: 49\n",
        "Idle calls: 244\n",
        "Idle calls: 245\n",
        "Idle calls: 246\n",
        "Idle calls: 247"
       ]
      },
      {
       "output_type": "stream",
       "stream": "stdout",
       "text": [
        "\n",
        "Idle calls: 248\n",
        "Particles: 50\n",
        "Idle calls: 249\n",
        "Idle calls: 250\n",
        "Idle calls: 251\n",
        "Idle calls: 252\n",
        "Idle calls: 253\n",
        "Particles: 51\n",
        "Idle calls: 254\n",
        "Idle calls: 255\n",
        "Idle calls: 256\n",
        "Idle calls: 257"
       ]
      },
      {
       "output_type": "stream",
       "stream": "stdout",
       "text": [
        "\n",
        "Idle calls: 258\n",
        "Particles: 52\n",
        "Idle calls: 259\n",
        "Idle calls: 260\n",
        "Idle calls: 261\n",
        "Idle calls: 262\n",
        "Idle calls: 263\n",
        "Particles: 53\n",
        "Idle calls: 264\n",
        "Idle calls: 265\n",
        "Idle calls: 266\n",
        "Idle calls: 267\n",
        "Idle calls: 268"
       ]
      },
      {
       "output_type": "stream",
       "stream": "stdout",
       "text": [
        "\n",
        "Particles: 54\n",
        "Idle calls: 269\n",
        "Idle calls: 270\n",
        "Idle calls: 271\n",
        "Idle calls: 272\n",
        "Idle calls: 273\n",
        "Particles: 55\n",
        "Idle calls: 274\n",
        "Idle calls: 275\n",
        "Idle calls: 276"
       ]
      },
      {
       "output_type": "stream",
       "stream": "stdout",
       "text": [
        "\n",
        "Idle calls: 277\n",
        "Idle calls: 278\n",
        "Particles: 56\n",
        "Idle calls: 279\n",
        "Idle calls: 280\n",
        "Idle calls: 281\n",
        "Idle calls: 282\n",
        "Idle calls: 283\n",
        "Particles: 57\n",
        "Idle calls: 284\n",
        "Idle calls: 285\n",
        "Idle calls: 286"
       ]
      },
      {
       "output_type": "stream",
       "stream": "stdout",
       "text": [
        "\n",
        "Idle calls: 287\n",
        "Idle calls: 288\n",
        "Particles: 58\n",
        "Idle calls: 289\n",
        "Idle calls: 290\n",
        "Idle calls: 291\n",
        "Idle calls: 292\n",
        "Idle calls: 293\n",
        "Particles: 59\n",
        "Idle calls: 294"
       ]
      },
      {
       "output_type": "stream",
       "stream": "stdout",
       "text": [
        "\n",
        "Idle calls: 295\n",
        "Idle calls: 296\n",
        "Idle calls: 297\n",
        "Idle calls: 298\n",
        "Particles: 60\n",
        "Idle calls: 299\n",
        "Idle calls: 300\n",
        "Idle calls: 301\n",
        "Idle calls: 302\n",
        "Idle calls: 303\n",
        "Particles: 61"
       ]
      },
      {
       "output_type": "stream",
       "stream": "stdout",
       "text": [
        "\n",
        "Idle calls: 304\n",
        "Idle calls: 305\n",
        "Idle calls: 306\n",
        "Idle calls: 307\n",
        "Idle calls: 308\n",
        "Particles: 62\n",
        "Idle calls: 309\n",
        "Idle calls: 310"
       ]
      },
      {
       "output_type": "stream",
       "stream": "stdout",
       "text": [
        "\n",
        "Idle calls: 311\n",
        "Idle calls: 312\n",
        "Idle calls: 313\n",
        "Particles: 63\n",
        "Idle calls: 314\n",
        "Idle calls: 315\n",
        "Idle calls: 316\n",
        "Idle calls: 317\n",
        "Idle calls: 318\n",
        "Particles: 64\n",
        "Idle calls: 319"
       ]
      },
      {
       "output_type": "stream",
       "stream": "stdout",
       "text": [
        "\n",
        "Idle calls: 320\n",
        "Idle calls: 321\n",
        "Idle calls: 322\n",
        "Idle calls: 323\n",
        "Particles: 65\n",
        "Idle calls: 324\n",
        "Idle calls: 325\n",
        "Idle calls: 326\n",
        "Idle calls: 327\n",
        "Idle calls: 328\n",
        "Particles: 66\n",
        "Idle calls: 329\n",
        "Idle calls: 330"
       ]
      },
      {
       "output_type": "stream",
       "stream": "stdout",
       "text": [
        "\n",
        "Idle calls: 331\n",
        "Idle calls: 332\n",
        "Idle calls: 333\n",
        "Particles: 67\n",
        "Idle calls: 334\n",
        "Idle calls: 335\n",
        "Idle calls: 336\n",
        "Idle calls: 337\n",
        "Idle calls: 338\n",
        "Particles: 68\n",
        "Idle calls: 339\n",
        "Idle calls: 340"
       ]
      },
      {
       "output_type": "stream",
       "stream": "stdout",
       "text": [
        "\n",
        "Idle calls: 341\n",
        "Idle calls: 342\n",
        "Idle calls: 343\n",
        "Particles: 69\n",
        "Idle calls: 344\n",
        "Idle calls: 345\n",
        "Idle calls: 346\n",
        "Idle calls: 347\n",
        "Idle calls: 348\n",
        "Particles: 70"
       ]
      },
      {
       "output_type": "stream",
       "stream": "stdout",
       "text": [
        "\n",
        "Idle calls: 349\n",
        "Idle calls: 350\n",
        "Idle calls: 351\n",
        "Idle calls: 352\n",
        "Idle calls: 353\n",
        "Particles: 71\n",
        "Idle calls: 354\n",
        "Idle calls: 355\n",
        "Idle calls: 356"
       ]
      },
      {
       "output_type": "stream",
       "stream": "stdout",
       "text": [
        "\n",
        "Idle calls: 357\n",
        "Idle calls: 358\n",
        "Particles: 72\n",
        "Idle calls: 359\n",
        "Idle calls: 360\n",
        "Idle calls: 361\n",
        "Idle calls: 362\n",
        "Idle calls: 363\n",
        "Particles: 73\n",
        "Idle calls: 364\n",
        "Idle calls: 365\n",
        "Idle calls: 366"
       ]
      },
      {
       "output_type": "stream",
       "stream": "stdout",
       "text": [
        "\n",
        "Idle calls: 367\n",
        "Idle calls: 368\n",
        "Particles: 74\n",
        "Idle calls: 369\n",
        "Idle calls: 370\n",
        "Idle calls: 371\n",
        "Idle calls: 372\n",
        "Idle calls: 373\n",
        "Particles: 75\n",
        "Idle calls: 374\n",
        "Idle calls: 375"
       ]
      },
      {
       "output_type": "stream",
       "stream": "stdout",
       "text": [
        "\n",
        "Idle calls: 376\n",
        "Idle calls: 377\n",
        "Idle calls: 378\n",
        "Particles: 76\n",
        "Idle calls: 379\n",
        "Idle calls: 380\n",
        "Idle calls: 381\n",
        "Idle calls: 382\n",
        "Idle calls: 383"
       ]
      },
      {
       "output_type": "stream",
       "stream": "stdout",
       "text": [
        "\n",
        "Particles: 77\n",
        "Idle calls: 384\n",
        "Idle calls: 385\n",
        "Idle calls: 386\n",
        "Idle calls: 387\n",
        "Idle calls: 388\n",
        "Particles: 78"
       ]
      },
      {
       "output_type": "stream",
       "stream": "stdout",
       "text": [
        "\n",
        "Idle calls: 389\n",
        "Idle calls: 390\n",
        "Idle calls: 391\n",
        "Idle calls: 392\n",
        "Idle calls: 393\n",
        "Particles: 79\n",
        "Idle calls: 394"
       ]
      },
      {
       "output_type": "stream",
       "stream": "stdout",
       "text": [
        "\n",
        "Idle calls: 395\n",
        "Idle calls: 396\n",
        "Idle calls: 397\n",
        "Idle calls: 398\n",
        "Particles: 80\n",
        "Idle calls: 399\n",
        "Idle calls: 400\n",
        "Idle calls: 401\n",
        "Idle calls: 402"
       ]
      },
      {
       "output_type": "stream",
       "stream": "stdout",
       "text": [
        "\n",
        "Idle calls: 403\n",
        "Particles: 81\n",
        "Idle calls: 404\n",
        "Idle calls: 405\n",
        "Idle calls: 406\n",
        "Idle calls: 407\n",
        "Idle calls: 408\n",
        "Particles: 82\n",
        "Idle calls: 409\n",
        "Idle calls: 410"
       ]
      },
      {
       "output_type": "stream",
       "stream": "stdout",
       "text": [
        "\n",
        "Idle calls: 411\n",
        "Idle calls: 412\n",
        "Idle calls: 413\n",
        "Particles: 83\n",
        "Idle calls: 414\n",
        "Idle calls: 415\n",
        "Idle calls: 416\n",
        "Idle calls: 417"
       ]
      },
      {
       "output_type": "stream",
       "stream": "stdout",
       "text": [
        "\n",
        "Idle calls: 418\n",
        "Particles: 84\n",
        "Idle calls: 419\n",
        "Idle calls: 420\n",
        "Idle calls: 421\n",
        "Idle calls: 422\n",
        "Idle calls: 423"
       ]
      },
      {
       "output_type": "stream",
       "stream": "stdout",
       "text": [
        "\n",
        "Particles: 85\n",
        "Idle calls: 424\n",
        "Idle calls: 425\n",
        "Idle calls: 426\n",
        "Idle calls: 427\n",
        "Idle calls: 428\n",
        "Particles: 86\n",
        "Idle calls: 429\n",
        "Idle calls: 430"
       ]
      },
      {
       "output_type": "stream",
       "stream": "stdout",
       "text": [
        "\n",
        "Idle calls: 431\n",
        "Idle calls: 432\n",
        "Idle calls: 433\n",
        "Particles: 87\n",
        "Idle calls: 434\n",
        "Idle calls: 435\n",
        "Idle calls: 436"
       ]
      },
      {
       "output_type": "stream",
       "stream": "stdout",
       "text": [
        "\n",
        "Idle calls: 437\n",
        "Idle calls: 438\n",
        "Particles: 88\n",
        "Idle calls: 439\n",
        "Idle calls: 440\n",
        "Idle calls: 441\n",
        "Idle calls: 442\n",
        "Idle calls: 443"
       ]
      },
      {
       "output_type": "stream",
       "stream": "stdout",
       "text": [
        "\n",
        "Particles: 89\n",
        "Idle calls: 444\n",
        "Idle calls: 445\n",
        "Idle calls: 446\n",
        "Idle calls: 447\n",
        "Idle calls: 448\n",
        "Particles: 90\n",
        "Idle calls: 449\n",
        "Idle calls: 450"
       ]
      },
      {
       "output_type": "stream",
       "stream": "stdout",
       "text": [
        "\n",
        "Idle calls: 451\n",
        "Idle calls: 452\n",
        "Idle calls: 453\n",
        "Particles: 91\n",
        "Idle calls: 454\n",
        "Idle calls: 455\n",
        "Idle calls: 456"
       ]
      },
      {
       "output_type": "stream",
       "stream": "stdout",
       "text": [
        "\n",
        "Idle calls: 457\n",
        "Idle calls: 458\n",
        "Particles: 92\n",
        "Idle calls: 459\n",
        "Idle calls: 460\n",
        "Idle calls: 461\n",
        "Idle calls: 462\n",
        "Idle calls: 463"
       ]
      },
      {
       "output_type": "stream",
       "stream": "stdout",
       "text": [
        "\n",
        "Particles: 93\n",
        "Idle calls: 464\n",
        "Idle calls: 465\n",
        "Idle calls: 466\n",
        "Idle calls: 467\n",
        "Idle calls: 468\n",
        "Particles: 94\n",
        "Idle calls: 469\n",
        "Idle calls: 470"
       ]
      },
      {
       "output_type": "stream",
       "stream": "stdout",
       "text": [
        "\n",
        "Idle calls: 471\n",
        "Idle calls: 472\n",
        "Idle calls: 473\n",
        "Particles: 95\n",
        "Idle calls: 474\n",
        "Idle calls: 475\n",
        "Idle calls: 476"
       ]
      },
      {
       "output_type": "stream",
       "stream": "stdout",
       "text": [
        "\n",
        "Idle calls: 477\n",
        "Idle calls: 478\n",
        "Particles: 96\n",
        "Idle calls: 479\n",
        "Idle calls: 480\n",
        "Idle calls: 481"
       ]
      },
      {
       "output_type": "stream",
       "stream": "stdout",
       "text": [
        "\n",
        "Idle calls: 482\n",
        "Idle calls: 483\n",
        "Particles: 97\n",
        "Idle calls: 484\n",
        "Idle calls: 485\n",
        "Idle calls: 486"
       ]
      },
      {
       "output_type": "stream",
       "stream": "stdout",
       "text": [
        "\n",
        "Idle calls: 487\n",
        "Idle calls: 488\n",
        "Particles: 98\n",
        "Idle calls: 489\n",
        "Idle calls: 490\n",
        "Idle calls: 491"
       ]
      },
      {
       "output_type": "stream",
       "stream": "stdout",
       "text": [
        "\n",
        "Idle calls: 492\n",
        "Idle calls: 493\n",
        "Particles: 99\n",
        "Idle calls: 494\n",
        "Idle calls: 495\n",
        "Idle calls: 496"
       ]
      },
      {
       "output_type": "stream",
       "stream": "stdout",
       "text": [
        "\n",
        "Idle calls: 497\n",
        "Idle calls: 498\n",
        "Particles: 100\n",
        "Idle calls: 499\n",
        "Idle calls: 500\n",
        "Idle calls: 501"
       ]
      },
      {
       "output_type": "stream",
       "stream": "stdout",
       "text": [
        "\n",
        "Idle calls: 502\n",
        "Idle calls: 503\n",
        "Particles: 101\n",
        "Idle calls: 504\n",
        "Idle calls: 505"
       ]
      },
      {
       "output_type": "stream",
       "stream": "stdout",
       "text": [
        "\n",
        "Idle calls: 506\n",
        "Idle calls: 507\n",
        "Idle calls: 508\n",
        "Particles: 102\n",
        "Idle calls: 509"
       ]
      },
      {
       "output_type": "stream",
       "stream": "stdout",
       "text": [
        "\n",
        "Idle calls: 510\n",
        "Idle calls: 511\n",
        "Idle calls: 512\n",
        "Idle calls: 513\n",
        "Particles: 103\n",
        "Idle calls: 514"
       ]
      },
      {
       "output_type": "stream",
       "stream": "stdout",
       "text": [
        "\n",
        "Idle calls: 515\n",
        "Idle calls: 516\n",
        "Idle calls: 517\n",
        "Idle calls: 518\n",
        "Particles: 104\n",
        "Idle calls: 519"
       ]
      },
      {
       "output_type": "stream",
       "stream": "stdout",
       "text": [
        "\n",
        "Idle calls: 520\n",
        "Idle calls: 521\n",
        "Idle calls: 522\n",
        "Idle calls: 523\n",
        "Particles: 105\n",
        "Idle calls: 524"
       ]
      },
      {
       "output_type": "stream",
       "stream": "stdout",
       "text": [
        "\n",
        "Idle calls: 525\n",
        "Idle calls: 526\n",
        "Idle calls: 527\n",
        "Idle calls: 528\n",
        "Particles: 106"
       ]
      },
      {
       "output_type": "stream",
       "stream": "stdout",
       "text": [
        "\n",
        "Idle calls: 529\n",
        "Idle calls: 530\n",
        "Idle calls: 531\n",
        "Idle calls: 532\n",
        "Idle calls: 533\n",
        "Particles: 107"
       ]
      },
      {
       "output_type": "stream",
       "stream": "stdout",
       "text": [
        "\n",
        "Idle calls: 534\n",
        "Idle calls: 535\n",
        "Idle calls: 536\n",
        "Idle calls: 537\n",
        "Idle calls: 538"
       ]
      },
      {
       "output_type": "stream",
       "stream": "stdout",
       "text": [
        "\n",
        "Particles: 108\n",
        "Idle calls: 539\n",
        "Idle calls: 540\n",
        "Idle calls: 541\n",
        "Idle calls: 542\n",
        "Idle calls: 543"
       ]
      },
      {
       "output_type": "stream",
       "stream": "stdout",
       "text": [
        "\n",
        "Particles: 109\n",
        "Idle calls: 544\n",
        "Idle calls: 545\n",
        "Idle calls: 546\n",
        "Idle calls: 547"
       ]
      },
      {
       "output_type": "stream",
       "stream": "stdout",
       "text": [
        "\n",
        "Idle calls: 548\n",
        "Particles: 110\n",
        "Idle calls: 549\n",
        "Idle calls: 550\n",
        "Idle calls: 551"
       ]
      },
      {
       "output_type": "stream",
       "stream": "stdout",
       "text": [
        "\n",
        "Idle calls: 552\n",
        "Idle calls: 553\n",
        "Particles: 111\n",
        "Idle calls: 554\n",
        "Idle calls: 555"
       ]
      },
      {
       "output_type": "stream",
       "stream": "stdout",
       "text": [
        "\n",
        "Idle calls: 556\n",
        "Idle calls: 557\n",
        "Idle calls: 558\n",
        "Particles: 112\n",
        "Idle calls: 559\n",
        "Idle calls: 560"
       ]
      },
      {
       "output_type": "stream",
       "stream": "stdout",
       "text": [
        "\n",
        "Idle calls: 561\n",
        "Idle calls: 562\n",
        "Idle calls: 563\n",
        "Particles: 113"
       ]
      },
      {
       "output_type": "stream",
       "stream": "stdout",
       "text": [
        "\n",
        "Idle calls: 564\n",
        "Idle calls: 565\n",
        "Idle calls: 566\n",
        "Idle calls: 567"
       ]
      },
      {
       "output_type": "stream",
       "stream": "stdout",
       "text": [
        "\n",
        "Idle calls: 568\n",
        "Particles: 114\n",
        "Idle calls: 569\n",
        "Idle calls: 570\n",
        "Idle calls: 571"
       ]
      },
      {
       "output_type": "stream",
       "stream": "stdout",
       "text": [
        "\n",
        "Idle calls: 572\n",
        "Idle calls: 573\n",
        "Particles: 115\n",
        "Idle calls: 574\n",
        "Idle calls: 575"
       ]
      },
      {
       "output_type": "stream",
       "stream": "stdout",
       "text": [
        "\n",
        "Idle calls: 576\n",
        "Idle calls: 577\n",
        "Idle calls: 578\n",
        "Particles: 116\n",
        "Idle calls: 579"
       ]
      },
      {
       "output_type": "stream",
       "stream": "stdout",
       "text": [
        "\n",
        "Idle calls: 580\n",
        "Idle calls: 581\n",
        "Idle calls: 582\n",
        "Idle calls: 583\n",
        "Particles: 117"
       ]
      },
      {
       "output_type": "stream",
       "stream": "stdout",
       "text": [
        "\n",
        "Idle calls: 584\n",
        "Idle calls: 585\n",
        "Idle calls: 586\n",
        "Idle calls: 587\n",
        "Idle calls: 588"
       ]
      },
      {
       "output_type": "stream",
       "stream": "stdout",
       "text": [
        "\n",
        "Particles: 118\n",
        "Idle calls: 589\n",
        "Idle calls: 590\n",
        "Idle calls: 591\n",
        "Idle calls: 592\n",
        "Idle calls: 593"
       ]
      },
      {
       "output_type": "stream",
       "stream": "stdout",
       "text": [
        "\n",
        "Particles: 119\n",
        "Idle calls: 594\n",
        "Idle calls: 595\n",
        "Idle calls: 596\n",
        "Idle calls: 597\n",
        "Idle calls: 598"
       ]
      },
      {
       "output_type": "stream",
       "stream": "stdout",
       "text": [
        "\n",
        "Particles: 120\n",
        "Idle calls: 599\n",
        "Idle calls: 600\n",
        "Idle calls: 601\n",
        "Idle calls: 602\n",
        "Idle calls: 603"
       ]
      },
      {
       "output_type": "stream",
       "stream": "stdout",
       "text": [
        "\n",
        "Particles: 121\n",
        "Idle calls: 604\n",
        "Idle calls: 605\n",
        "Idle calls: 606\n",
        "Idle calls: 607"
       ]
      },
      {
       "output_type": "stream",
       "stream": "stdout",
       "text": [
        "\n",
        "Idle calls: 608\n",
        "Particles: 122\n",
        "Idle calls: 609\n",
        "Idle calls: 610\n",
        "Idle calls: 611"
       ]
      },
      {
       "output_type": "stream",
       "stream": "stdout",
       "text": [
        "\n",
        "Idle calls: 612\n",
        "Idle calls: 613\n",
        "Particles: 123\n",
        "Idle calls: 614\n",
        "Idle calls: 615"
       ]
      },
      {
       "output_type": "stream",
       "stream": "stdout",
       "text": [
        "\n",
        "Idle calls: 616\n",
        "Idle calls: 617\n",
        "Idle calls: 618\n",
        "Particles: 124\n",
        "Idle calls: 619\n",
        "Idle calls: 620"
       ]
      },
      {
       "output_type": "stream",
       "stream": "stdout",
       "text": [
        "\n",
        "Idle calls: 621\n",
        "Idle calls: 622\n",
        "Idle calls: 623\n",
        "Particles: 125\n",
        "Idle calls: 624\n"
       ]
      },
      {
       "output_type": "stream",
       "stream": "stdout",
       "text": [
        "Idle calls: 625\n",
        "Idle calls: 626\n",
        "Idle calls: 627\n",
        "Idle calls: 628\n",
        "Particles: 126\n",
        "Idle calls: 629"
       ]
      },
      {
       "output_type": "stream",
       "stream": "stdout",
       "text": [
        "\n",
        "Idle calls: 630\n",
        "Idle calls: 631\n",
        "Idle calls: 632\n",
        "Idle calls: 633\n",
        "Particles: 127"
       ]
      },
      {
       "output_type": "stream",
       "stream": "stdout",
       "text": [
        "\n",
        "Idle calls: 634\n",
        "Idle calls: 635\n",
        "Idle calls: 636\n",
        "Idle calls: 637"
       ]
      },
      {
       "output_type": "stream",
       "stream": "stdout",
       "text": [
        "\n",
        "Idle calls: 638\n",
        "Particles: 128\n",
        "Idle calls: 639\n",
        "Idle calls: 640\n",
        "Idle calls: 641"
       ]
      },
      {
       "output_type": "stream",
       "stream": "stdout",
       "text": [
        "\n",
        "Idle calls: 642\n",
        "Idle calls: 643\n",
        "Particles: 129\n",
        "Idle calls: 644\n",
        "Idle calls: 645"
       ]
      },
      {
       "output_type": "stream",
       "stream": "stdout",
       "text": [
        "\n",
        "Idle calls: 646\n",
        "Idle calls: 647\n",
        "Idle calls: 648\n",
        "Particles: 130\n",
        "Idle calls: 649"
       ]
      },
      {
       "output_type": "stream",
       "stream": "stdout",
       "text": [
        "\n",
        "Idle calls: 650\n",
        "Idle calls: 651\n",
        "Idle calls: 652\n",
        "Idle calls: 653"
       ]
      },
      {
       "output_type": "stream",
       "stream": "stdout",
       "text": [
        "\n",
        "Particles: 131\n",
        "Idle calls: 654\n",
        "Idle calls: 655\n",
        "Idle calls: 656\n",
        "Idle calls: 657"
       ]
      },
      {
       "output_type": "stream",
       "stream": "stdout",
       "text": [
        "\n",
        "Idle calls: 658\n",
        "Particles: 132\n",
        "Idle calls: 659\n",
        "Idle calls: 660\n",
        "Idle calls: 661"
       ]
      },
      {
       "output_type": "stream",
       "stream": "stdout",
       "text": [
        "\n",
        "Idle calls: 662\n",
        "Idle calls: 663\n",
        "Particles: 133\n",
        "Idle calls: 664\n",
        "Idle calls: 665"
       ]
      },
      {
       "output_type": "stream",
       "stream": "stdout",
       "text": [
        "\n",
        "Idle calls: 666\n",
        "Idle calls: 667\n",
        "Idle calls: 668\n",
        "Particles: 134\n",
        "Idle calls: 669"
       ]
      },
      {
       "output_type": "stream",
       "stream": "stdout",
       "text": [
        "\n",
        "Idle calls: 670\n",
        "Idle calls: 671\n",
        "Idle calls: 672\n",
        "Idle calls: 673"
       ]
      },
      {
       "output_type": "stream",
       "stream": "stdout",
       "text": [
        "\n",
        "Particles: 135\n",
        "Idle calls: 674\n",
        "Idle calls: 675\n",
        "Idle calls: 676\n",
        "Idle calls: 677"
       ]
      },
      {
       "output_type": "stream",
       "stream": "stdout",
       "text": [
        "\n",
        "Idle calls: 678\n",
        "Particles: 136\n",
        "Idle calls: 679\n",
        "Idle calls: 680\n",
        "Idle calls: 681"
       ]
      },
      {
       "output_type": "stream",
       "stream": "stdout",
       "text": [
        "\n",
        "Idle calls: 682\n",
        "Idle calls: 683\n",
        "Particles: 137\n",
        "Idle calls: 684\n",
        "Idle calls: 685"
       ]
      },
      {
       "output_type": "stream",
       "stream": "stdout",
       "text": [
        "\n",
        "Idle calls: 686\n",
        "Idle calls: 687\n",
        "Idle calls: 688\n",
        "Particles: 138\n",
        "Idle calls: 689"
       ]
      },
      {
       "output_type": "stream",
       "stream": "stdout",
       "text": [
        "\n",
        "Idle calls: 690\n",
        "Idle calls: 691\n",
        "Idle calls: 692\n",
        "Idle calls: 693"
       ]
      },
      {
       "output_type": "stream",
       "stream": "stdout",
       "text": [
        "\n",
        "Particles: 139\n",
        "Idle calls: 694\n",
        "Idle calls: 695\n",
        "Idle calls: 696"
       ]
      },
      {
       "output_type": "stream",
       "stream": "stdout",
       "text": [
        "\n",
        "Idle calls: 697\n",
        "Idle calls: 698\n",
        "Particles: 140\n",
        "Idle calls: 699\n",
        "Idle calls: 700"
       ]
      },
      {
       "output_type": "stream",
       "stream": "stdout",
       "text": [
        "\n",
        "Idle calls: 701\n",
        "Idle calls: 702\n",
        "Idle calls: 703"
       ]
      },
      {
       "output_type": "stream",
       "stream": "stdout",
       "text": [
        "\n",
        "Particles: 141\n",
        "Idle calls: 704\n",
        "Idle calls: 705\n",
        "Idle calls: 706"
       ]
      },
      {
       "output_type": "stream",
       "stream": "stdout",
       "text": [
        "\n",
        "Idle calls: 707\n",
        "Idle calls: 708\n",
        "Particles: 142\n",
        "Idle calls: 709\n",
        "Idle calls: 710"
       ]
      },
      {
       "output_type": "stream",
       "stream": "stdout",
       "text": [
        "\n",
        "Idle calls: 711\n",
        "Idle calls: 712\n",
        "Idle calls: 713\n",
        "Particles: 143"
       ]
      },
      {
       "output_type": "stream",
       "stream": "stdout",
       "text": [
        "\n",
        "Idle calls: 714\n",
        "Idle calls: 715\n",
        "Idle calls: 716\n",
        "Idle calls: 717"
       ]
      },
      {
       "output_type": "stream",
       "stream": "stdout",
       "text": [
        "\n",
        "Idle calls: 718\n",
        "Particles: 144\n",
        "Idle calls: 719\n",
        "Idle calls: 720"
       ]
      },
      {
       "output_type": "stream",
       "stream": "stdout",
       "text": [
        "\n",
        "Idle calls: 721\n",
        "Idle calls: 722\n",
        "Idle calls: 723"
       ]
      },
      {
       "output_type": "stream",
       "stream": "stdout",
       "text": [
        "\n",
        "Particles: 145\n",
        "Idle calls: 724\n",
        "Idle calls: 725\n",
        "Idle calls: 726"
       ]
      },
      {
       "output_type": "stream",
       "stream": "stdout",
       "text": [
        "\n",
        "Idle calls: 727\n",
        "Idle calls: 728\n",
        "Particles: 146\n",
        "Idle calls: 729"
       ]
      },
      {
       "output_type": "stream",
       "stream": "stdout",
       "text": [
        "\n",
        "Idle calls: 730\n",
        "Idle calls: 731\n",
        "Idle calls: 732"
       ]
      },
      {
       "output_type": "stream",
       "stream": "stdout",
       "text": [
        "\n",
        "Idle calls: 733\n",
        "Particles: 147\n",
        "Idle calls: 734\n",
        "Idle calls: 735"
       ]
      },
      {
       "output_type": "stream",
       "stream": "stdout",
       "text": [
        "\n",
        "Idle calls: 736\n",
        "Idle calls: 737\n",
        "Idle calls: 738\n",
        "Particles: 148"
       ]
      },
      {
       "output_type": "stream",
       "stream": "stdout",
       "text": [
        "\n",
        "Idle calls: 739\n",
        "Idle calls: 740\n",
        "Idle calls: 741\n",
        "Idle calls: 742"
       ]
      },
      {
       "output_type": "stream",
       "stream": "stdout",
       "text": [
        "\n",
        "Idle calls: 743\n",
        "Particles: 149\n",
        "Idle calls: 744\n",
        "Idle calls: 745"
       ]
      },
      {
       "output_type": "stream",
       "stream": "stdout",
       "text": [
        "\n",
        "Idle calls: 746\n",
        "Idle calls: 747\n",
        "Idle calls: 748\n",
        "Particles: 150"
       ]
      },
      {
       "output_type": "stream",
       "stream": "stdout",
       "text": [
        "\n",
        "Idle calls: 749\n",
        "Idle calls: 750\n",
        "Idle calls: 751\n",
        "Idle calls: 752"
       ]
      },
      {
       "output_type": "stream",
       "stream": "stdout",
       "text": [
        "\n",
        "Idle calls: 753\n",
        "Idle calls: 754\n",
        "Idle calls: 755\n",
        "Idle calls: 756"
       ]
      },
      {
       "output_type": "stream",
       "stream": "stdout",
       "text": [
        "\n",
        "Idle calls: 757\n",
        "Idle calls: 758\n",
        "Idle calls: 759"
       ]
      },
      {
       "output_type": "stream",
       "stream": "stdout",
       "text": [
        "\n",
        "Idle calls: 760\n",
        "Idle calls: 761\n",
        "Idle calls: 762\n",
        "Idle calls: 763"
       ]
      },
      {
       "output_type": "stream",
       "stream": "stdout",
       "text": [
        "\n",
        "Idle calls: 764\n",
        "Idle calls: 765\n",
        "Idle calls: 766"
       ]
      },
      {
       "output_type": "stream",
       "stream": "stdout",
       "text": [
        "\n",
        "Idle calls: 767\n",
        "Idle calls: 768\n",
        "Idle calls: 769\n",
        "Idle calls: 770"
       ]
      },
      {
       "output_type": "stream",
       "stream": "stdout",
       "text": [
        "\n",
        "Idle calls: 771\n",
        "Idle calls: 772\n",
        "Idle calls: 773\n",
        "Idle calls: 774"
       ]
      },
      {
       "output_type": "stream",
       "stream": "stdout",
       "text": [
        "\n",
        "Idle calls: 775\n",
        "Idle calls: 776\n",
        "Idle calls: 777"
       ]
      },
      {
       "output_type": "stream",
       "stream": "stdout",
       "text": [
        "\n",
        "Idle calls: 778\n",
        "Idle calls: 779\n",
        "Idle calls: 780"
       ]
      },
      {
       "output_type": "stream",
       "stream": "stdout",
       "text": [
        "\n",
        "Idle calls: 781\n",
        "Idle calls: 782\n",
        "Idle calls: 783"
       ]
      },
      {
       "output_type": "stream",
       "stream": "stdout",
       "text": [
        "\n",
        "Idle calls: 784\n",
        "Idle calls: 785\n",
        "Idle calls: 786"
       ]
      },
      {
       "output_type": "stream",
       "stream": "stdout",
       "text": [
        "\n",
        "Idle calls: 787\n",
        "Idle calls: 788\n",
        "Idle calls: 789"
       ]
      },
      {
       "output_type": "stream",
       "stream": "stdout",
       "text": [
        "\n",
        "Idle calls: 790\n",
        "Idle calls: 791\n",
        "Idle calls: 792\n",
        "Idle calls: 793"
       ]
      },
      {
       "output_type": "stream",
       "stream": "stdout",
       "text": [
        "\n",
        "Idle calls: 794\n",
        "Idle calls: 795\n",
        "Idle calls: 796\n",
        "Idle calls: 797"
       ]
      },
      {
       "output_type": "stream",
       "stream": "stdout",
       "text": [
        "\n",
        "Idle calls: 798\n",
        "Idle calls: 799\n",
        "Idle calls: 800"
       ]
      },
      {
       "output_type": "stream",
       "stream": "stdout",
       "text": [
        "\n",
        "Idle calls: 801\n",
        "Idle calls: 802\n",
        "Idle calls: 803"
       ]
      },
      {
       "output_type": "stream",
       "stream": "stdout",
       "text": [
        "\n",
        "Idle calls: 804\n",
        "Idle calls: 805\n",
        "Idle calls: 806"
       ]
      },
      {
       "output_type": "stream",
       "stream": "stdout",
       "text": [
        "\n",
        "Idle calls: 807\n",
        "Idle calls: 808\n",
        "Idle calls: 809"
       ]
      },
      {
       "output_type": "stream",
       "stream": "stdout",
       "text": [
        "\n",
        "Idle calls: 810\n",
        "Idle calls: 811\n",
        "Idle calls: 812\n",
        "Idle calls: 813"
       ]
      },
      {
       "output_type": "stream",
       "stream": "stdout",
       "text": [
        "\n",
        "Idle calls: 814\n",
        "Idle calls: 815\n",
        "Idle calls: 816\n",
        "Idle calls: 817"
       ]
      },
      {
       "output_type": "stream",
       "stream": "stdout",
       "text": [
        "\n",
        "Idle calls: 818\n",
        "Idle calls: 819\n",
        "Idle calls: 820\n",
        "Idle calls: 821"
       ]
      },
      {
       "output_type": "stream",
       "stream": "stdout",
       "text": [
        "\n",
        "Idle calls: 822\n",
        "Idle calls: 823\n",
        "Idle calls: 824"
       ]
      },
      {
       "output_type": "stream",
       "stream": "stdout",
       "text": [
        "\n",
        "Idle calls: 825\n",
        "Idle calls: 826\n",
        "Idle calls: 827"
       ]
      },
      {
       "output_type": "stream",
       "stream": "stdout",
       "text": [
        "\n",
        "Idle calls: 828\n",
        "Idle calls: 829\n",
        "Idle calls: 830"
       ]
      },
      {
       "output_type": "stream",
       "stream": "stdout",
       "text": [
        "\n",
        "Idle calls: 831\n",
        "Idle calls: 832\n",
        "Idle calls: 833\n",
        "Idle calls: 834"
       ]
      },
      {
       "output_type": "stream",
       "stream": "stdout",
       "text": [
        "\n",
        "Idle calls: 835\n",
        "Idle calls: 836\n",
        "Idle calls: 837"
       ]
      },
      {
       "output_type": "stream",
       "stream": "stdout",
       "text": [
        "\n",
        "Idle calls: 838\n",
        "Idle calls: 839\n",
        "Idle calls: 840\n",
        "Idle calls: 841"
       ]
      },
      {
       "output_type": "stream",
       "stream": "stdout",
       "text": [
        "\n",
        "Idle calls: 842\n",
        "Idle calls: 843\n",
        "Idle calls: 844"
       ]
      },
      {
       "output_type": "stream",
       "stream": "stdout",
       "text": [
        "\n",
        "Idle calls: 845\n",
        "Idle calls: 846\n",
        "Idle calls: 847"
       ]
      },
      {
       "output_type": "stream",
       "stream": "stdout",
       "text": [
        "\n",
        "Idle calls: 848\n",
        "Idle calls: 849\n",
        "Idle calls: 850\n",
        "Idle calls: 851"
       ]
      },
      {
       "output_type": "stream",
       "stream": "stdout",
       "text": [
        "\n",
        "Idle calls: 852\n",
        "Idle calls: 853\n",
        "Idle calls: 854"
       ]
      },
      {
       "output_type": "stream",
       "stream": "stdout",
       "text": [
        "\n",
        "Idle calls: 855\n",
        "Idle calls: 856\n",
        "Idle calls: 857\n",
        "Idle calls: 858"
       ]
      },
      {
       "output_type": "stream",
       "stream": "stdout",
       "text": [
        "\n",
        "Idle calls: 859\n",
        "Idle calls: 860\n",
        "Idle calls: 861"
       ]
      },
      {
       "output_type": "stream",
       "stream": "stdout",
       "text": [
        "\n",
        "Idle calls: 862\n",
        "Idle calls: 863\n",
        "Idle calls: 864\n",
        "Idle calls: 865"
       ]
      },
      {
       "output_type": "stream",
       "stream": "stdout",
       "text": [
        "\n",
        "Idle calls: 866\n",
        "Idle calls: 867\n",
        "Idle calls: 868\n",
        "Idle calls: 869"
       ]
      },
      {
       "output_type": "stream",
       "stream": "stdout",
       "text": [
        "\n",
        "Idle calls: 870\n",
        "Idle calls: 871\n",
        "Idle calls: 872"
       ]
      },
      {
       "output_type": "stream",
       "stream": "stdout",
       "text": [
        "\n",
        "Idle calls: 873\n",
        "Idle calls: 874\n",
        "Idle calls: 875"
       ]
      },
      {
       "output_type": "stream",
       "stream": "stdout",
       "text": [
        "\n",
        "Idle calls: 876\n",
        "Idle calls: 877\n",
        "Idle calls: 878\n",
        "Idle calls: 879"
       ]
      },
      {
       "output_type": "stream",
       "stream": "stdout",
       "text": [
        "\n",
        "Idle calls: 880\n",
        "Idle calls: 881\n",
        "Idle calls: 882"
       ]
      },
      {
       "output_type": "stream",
       "stream": "stdout",
       "text": [
        "\n",
        "Idle calls: 883\n",
        "Idle calls: 884\n",
        "Idle calls: 885"
       ]
      },
      {
       "output_type": "stream",
       "stream": "stdout",
       "text": [
        "\n",
        "Idle calls: 886\n",
        "Idle calls: 887\n",
        "Idle calls: 888\n",
        "Idle calls: 889"
       ]
      },
      {
       "output_type": "stream",
       "stream": "stdout",
       "text": [
        "\n",
        "Idle calls: 890\n",
        "Idle calls: 891\n",
        "Idle calls: 892"
       ]
      },
      {
       "output_type": "stream",
       "stream": "stdout",
       "text": [
        "\n",
        "Idle calls: 893\n",
        "Idle calls: 894\n",
        "Idle calls: 895"
       ]
      },
      {
       "output_type": "stream",
       "stream": "stdout",
       "text": [
        "\n",
        "Idle calls: 896\n",
        "Idle calls: 897\n",
        "Idle calls: 898"
       ]
      },
      {
       "output_type": "stream",
       "stream": "stdout",
       "text": [
        "\n",
        "Idle calls: 899\n",
        "Idle calls: 900\n",
        "Idle calls: 901"
       ]
      },
      {
       "output_type": "stream",
       "stream": "stdout",
       "text": [
        "\n",
        "Idle calls: 902\n",
        "Idle calls: 903\n",
        "Idle calls: 904"
       ]
      },
      {
       "output_type": "stream",
       "stream": "stdout",
       "text": [
        "\n",
        "Idle calls: 905\n",
        "Idle calls: 906\n",
        "Idle calls: 907\n",
        "Idle calls: 908"
       ]
      },
      {
       "output_type": "stream",
       "stream": "stdout",
       "text": [
        "\n",
        "Idle calls: 909\n",
        "Idle calls: 910\n",
        "Idle calls: 911"
       ]
      },
      {
       "output_type": "stream",
       "stream": "stdout",
       "text": [
        "\n",
        "Idle calls: 912\n",
        "Idle calls: 913\n",
        "Idle calls: 914\n",
        "Idle calls: 915"
       ]
      },
      {
       "output_type": "stream",
       "stream": "stdout",
       "text": [
        "\n",
        "Idle calls: 916\n",
        "Idle calls: 917\n",
        "Idle calls: 918"
       ]
      },
      {
       "output_type": "stream",
       "stream": "stdout",
       "text": [
        "\n",
        "Idle calls: 919\n",
        "Idle calls: 920\n",
        "Idle calls: 921"
       ]
      },
      {
       "output_type": "stream",
       "stream": "stdout",
       "text": [
        "\n",
        "Idle calls: 922\n",
        "Idle calls: 923\n",
        "Idle calls: 924\n",
        "Idle calls: 925"
       ]
      },
      {
       "output_type": "stream",
       "stream": "stdout",
       "text": [
        "\n",
        "Idle calls: 926\n",
        "Idle calls: 927\n",
        "Idle calls: 928"
       ]
      },
      {
       "output_type": "stream",
       "stream": "stdout",
       "text": [
        "\n",
        "Idle calls: 929\n",
        "Idle calls: 930\n",
        "Idle calls: 931\n",
        "Idle calls: 932"
       ]
      },
      {
       "output_type": "stream",
       "stream": "stdout",
       "text": [
        "\n",
        "Idle calls: 933\n",
        "Idle calls: 934\n",
        "Idle calls: 935\n",
        "Idle calls: 936"
       ]
      },
      {
       "output_type": "stream",
       "stream": "stdout",
       "text": [
        "\n",
        "Idle calls: 937\n",
        "Idle calls: 938\n",
        "Idle calls: 939\n",
        "Idle calls: 940"
       ]
      },
      {
       "output_type": "stream",
       "stream": "stdout",
       "text": [
        "\n",
        "Idle calls: 941\n",
        "Idle calls: 942\n",
        "Idle calls: 943"
       ]
      },
      {
       "output_type": "stream",
       "stream": "stdout",
       "text": [
        "\n",
        "Idle calls: 944\n",
        "Idle calls: 945\n",
        "Idle calls: 946"
       ]
      },
      {
       "output_type": "stream",
       "stream": "stdout",
       "text": [
        "\n",
        "Idle calls: 947\n",
        "Idle calls: 948\n",
        "Idle calls: 949"
       ]
      },
      {
       "output_type": "stream",
       "stream": "stdout",
       "text": [
        "\n",
        "Idle calls: 950\n",
        "Idle calls: 951\n",
        "Idle calls: 952"
       ]
      },
      {
       "output_type": "stream",
       "stream": "stdout",
       "text": [
        "\n",
        "Idle calls: 953\n",
        "Idle calls: 954\n",
        "Idle calls: 955"
       ]
      },
      {
       "output_type": "stream",
       "stream": "stdout",
       "text": [
        "\n",
        "Idle calls: 956\n",
        "Idle calls: 957\n",
        "Idle calls: 958"
       ]
      },
      {
       "output_type": "stream",
       "stream": "stdout",
       "text": [
        "\n",
        "Idle calls: 959\n",
        "Idle calls: 960\n",
        "Idle calls: 961"
       ]
      },
      {
       "output_type": "stream",
       "stream": "stdout",
       "text": [
        "\n",
        "Idle calls: 962\n",
        "Idle calls: 963\n",
        "Idle calls: 964"
       ]
      },
      {
       "output_type": "stream",
       "stream": "stdout",
       "text": [
        "\n",
        "Idle calls: 965\n",
        "Idle calls: 966\n",
        "Idle calls: 967"
       ]
      },
      {
       "output_type": "stream",
       "stream": "stdout",
       "text": [
        "\n",
        "Idle calls: 968\n",
        "Idle calls: 969\n",
        "Idle calls: 970"
       ]
      },
      {
       "output_type": "stream",
       "stream": "stdout",
       "text": [
        "\n",
        "Idle calls: 971\n",
        "Idle calls: 972\n",
        "Idle calls: 973"
       ]
      },
      {
       "output_type": "stream",
       "stream": "stdout",
       "text": [
        "\n",
        "Idle calls: 974\n",
        "Idle calls: 975\n",
        "Idle calls: 976"
       ]
      },
      {
       "output_type": "stream",
       "stream": "stdout",
       "text": [
        "\n",
        "Idle calls: 977\n",
        "Idle calls: 978\n",
        "Idle calls: 979"
       ]
      },
      {
       "output_type": "stream",
       "stream": "stdout",
       "text": [
        "\n",
        "Idle calls: 980\n",
        "Idle calls: 981\n",
        "Idle calls: 982"
       ]
      },
      {
       "output_type": "stream",
       "stream": "stdout",
       "text": [
        "\n",
        "Idle calls: 983\n",
        "Idle calls: 984\n",
        "Idle calls: 985"
       ]
      },
      {
       "output_type": "stream",
       "stream": "stdout",
       "text": [
        "\n",
        "Idle calls: 986\n",
        "Idle calls: 987\n",
        "Idle calls: 988"
       ]
      },
      {
       "output_type": "stream",
       "stream": "stdout",
       "text": [
        "\n",
        "Idle calls: 989\n",
        "Idle calls: 990\n",
        "Idle calls: 991"
       ]
      },
      {
       "output_type": "stream",
       "stream": "stdout",
       "text": [
        "\n",
        "Idle calls: 992\n",
        "Idle calls: 993\n",
        "Idle calls: 994"
       ]
      },
      {
       "output_type": "stream",
       "stream": "stdout",
       "text": [
        "\n",
        "Idle calls: 995\n",
        "Idle calls: 996\n",
        "Idle calls: 997"
       ]
      },
      {
       "output_type": "stream",
       "stream": "stdout",
       "text": [
        "\n",
        "Idle calls: 998\n",
        "Idle calls: 999\n",
        "Radiuses:\n",
        "[ 1.  1.  3.  1.  3.  1.  3.  1.  3.  1.  3.  1.  1.  1.  1.  1.  1.  1.\n",
        "  1.  1.  1.  1.  1.  1.  1.  1.  1.  1.  1.  1.  1.  1.  1.  1.  1.  1.\n",
        "  1.  1.  1.  1.  1.  1.  1.  1.  1.  1.  1.  1.  1.  1.  1.  1.  1.  1.\n",
        "  1.  1.  1.  1.  1.  1.  1.  1.  1.  1.  1.  1.  1.  1.  1.  1.  1.  1.\n",
        "  1.  1.  1.  1.  1.  1.  1.  1.  1.  1.  1.  1.  1.  1.  1.  1.  1.  1.\n",
        "  1.  1.  1.  1.  1.  1.  1.  1.  1.  1.  1.  1.  1.  1.  1.  1.  1.  1.\n",
        "  1.  1.  1.  1.  1.  1.  1.  1.  1.  1.  1.  1.  1.  1.  1.  1.  1.  1.\n",
        "  1.  1.  1.  1.  1.  1.  1.  1.  1.  1.  1.  1.  1.  1.  1.  1.  1.  1.\n",
        "  1.  1.  1.  1.  1.  1.  1.  1.  1.  1.  1.  1.]\n",
        "Acceleration in y\n",
        "[ -2.79524093e-02  -1.44925242e+00  -4.84028266e-02   2.18914052e-01\n",
        "  -9.91998986e-02  -1.92466751e-02   2.77730815e-01  -1.39012605e-01\n",
        "   2.00455152e-02   8.09288238e-02   1.31725947e-01  -2.29018670e-02\n",
        "   2.20215424e-01  -5.32159499e-01  -2.24908852e-02  -5.39814847e-01\n",
        "   1.92365765e-02  -3.42748837e-01   6.51940316e-02  -3.74348071e-01\n",
        "  -2.08320600e-01  -2.27143794e-01  -6.65779200e-01  -1.30582992e-01\n",
        "  -1.40658800e-01  -4.54518608e-01  -2.19465293e-01   1.01383948e-01\n",
        "  -5.81857668e-01  -1.10807373e-01  -1.57962626e-01  -8.59283307e-02\n",
        "   6.24004265e-02   7.62724388e-02  -2.58428376e-01  -1.75669083e-01\n",
        "  -1.69951408e-01  -1.30224828e-01  -5.58981763e-02   2.54926319e-01\n",
        "  -2.13144889e-01   2.06377936e-01  -1.80130729e-02  -6.09341925e-02\n",
        "  -1.95583595e-01  -6.47859711e-01  -2.13512269e-01  -6.91677011e-02\n",
        "   1.17813197e-02  -1.67623949e-01   4.94174315e-02  -6.44799063e-02\n",
        "  -6.67407955e-02  -1.34223637e-02  -3.67738498e-01  -7.09091335e-02\n",
        "   8.78394231e-01  -1.57270411e-01   8.89241986e-03  -3.16933806e-02\n",
        "   2.81749774e-02   6.85571443e-03   1.03422666e-01  -1.90984174e-01\n",
        "   5.79209949e-02   7.00292522e-02   8.59354732e-02   7.47900379e-02\n",
        "  -9.65700805e-02  -1.78565424e-01  -1.63470632e-01   2.54366338e-01\n",
        "   8.21565689e-02   8.55298054e-02   1.01615942e-02   1.13109443e-01\n",
        "   8.70785607e-02  -1.40699915e-01  -1.23143787e-01  -1.00463864e-02\n",
        "  -1.73995112e-01  -1.02297155e-01  -3.10073858e-01   7.57092409e-02\n",
        "   1.09698401e-01  -1.81227464e-01  -2.35705793e-02  -8.54168457e-03\n",
        "  -3.63071039e-02   1.63527184e-01  -3.18979148e-02  -6.89555398e-02\n",
        "  -3.31588180e-01  -1.85529283e-04   2.83113712e-02  -2.53811228e-01\n",
        "   1.24646138e-01   1.26233893e-01  -2.93967620e-02  -1.10648254e-01\n",
        "  -1.26967881e-01  -6.28222230e-02  -3.19895103e-01  -1.20207820e-01\n",
        "   1.43932827e-01   3.69992504e-01  -3.15040714e-01  -1.32642065e-02\n",
        "  -1.48391585e-01  -1.21539124e-01  -1.95960083e-01  -1.89660553e-01\n",
        "  -1.34094182e-01  -9.42890489e-02  -2.71978514e-02   1.74562248e-01\n",
        "   4.27680978e-01  -6.21691223e-02  -5.80468286e-03  -2.14740089e-01\n",
        "   9.84582928e-01  -2.80887438e-01  -1.62106601e-01  -3.19705661e-01\n",
        "   9.13221897e-02   1.61993837e-01   1.46629739e-01  -2.03717827e-01\n",
        "   5.45355644e-02  -1.57866716e-01  -3.48398521e-01  -8.22831734e-02\n",
        "  -1.19279447e-01   3.20639081e-01   8.38011583e-02  -3.68287213e-01\n",
        "  -2.87331324e-01   2.65616571e-02  -1.59213306e-01   2.07882684e-02\n",
        "  -1.63683734e-01  -3.89367595e-02   3.30628975e-01   1.85482932e-02\n",
        "  -9.22604160e-02  -6.95933790e-02   1.11833796e-01  -1.44254088e-02\n",
        "   7.02816483e-02  -5.81943327e-02   1.39765531e-01   2.65695199e-01\n",
        "   1.67870007e-02   6.54557917e-02  -2.35605046e-01  -2.86934633e-01]\n",
        "Y position\n",
        "[-4.4398821  -4.8769578  -1.06338548 -4.76462535  5.20846243 -4.75303173\n",
        " -3.28914966 -4.49678413  2.59036073 -4.62480001 -3.44967526 -4.50801882\n",
        " -4.43605515 -4.350865   -4.49369227 -4.32246609 -0.37994367 -3.13543445\n",
        " -4.57111372 -4.51165033 -4.4734204  -4.35844459 -4.45127814 -2.33155897\n",
        "  1.64415414 -1.6519291  -3.73366527 -4.16199532 -3.9405639  -0.13176077\n",
        " -3.66030058 -4.63158895 -0.01443692 -4.70667552 -3.87478399 -4.48824131\n",
        " -1.83790062 -4.61825962  2.06767954 -4.29832616 -0.81689066 -0.50659037\n",
        "  0.39238557  2.75356695 -2.90883875 -4.18107387 -3.11703684 -2.22139019\n",
        "  0.11750513 -4.14618648  3.7344593   1.9791783   2.08024229  0.88442626\n",
        " -1.38333869 -1.97137871 -4.05522108 -3.12983081 -1.29254025 -0.05799874\n",
        " -0.68682166  1.29942089 -3.74382064 -3.14242572  1.50372914 -4.32612516\n",
        " -2.24423104 -1.54743322  3.62964128  0.96017064 -1.5840021   0.31381933\n",
        " -0.52118154  2.35111015  0.0700787   1.71302406  0.46365577  0.27430638\n",
        "  2.14279228 -0.13726024 -2.91313844  0.55700328 -4.57111004 -2.77457109\n",
        " -4.70236279 -2.92358484 -1.21127637  1.88883294  3.82156502 -4.73412428\n",
        " -2.72778985  1.30180256 -0.74744576  3.9441456  -0.20598687 -0.18902665\n",
        " -1.98424573  1.87167152 -1.12025632 -3.43824528  2.70503074  1.68239447\n",
        "  4.8287695  -1.04729775 -2.61405148 -2.00478169  1.42853896 -0.17837577\n",
        "  0.65484282 -0.96825695  1.47657694  1.73545536  2.44266864  3.18771802\n",
        "  0.28425757  0.86084873  3.1446858   1.49558815  0.77367382 -3.62638476\n",
        " -4.23108963  2.61166119 -3.43993925 -0.89481277  0.61450689 -2.22125162\n",
        " -0.53608344  3.44613262 -0.21580136  1.25704958  0.28285116  2.66080405\n",
        " -0.83336973  0.35092432 -1.12728232  3.17225022  0.74048996  0.90343771\n",
        "  2.07141658  4.19963308  4.00451887  1.60426609 -1.05614923  4.4007401\n",
        "  4.50323526  2.80664539 -0.59854457  2.29657762 -0.62856397  0.38982997\n",
        " -0.55663958  2.0851447   2.9707493   0.68027321  2.47107877  3.45903694]\n",
        "Velocity in y\n",
        "[ 0.09438401 -0.03819368  0.21861581  0.01728627 -0.08114489  0.02752925\n",
        "  0.06946553  0.07050496  0.35108415  0.10241883  0.06388853 -0.04022792\n",
        "  0.11494974 -0.11261551  0.08859601 -0.05792115 -0.00202673  0.0316085\n",
        "  0.02604572  0.11163232  0.05424082  0.18997757  0.26171304 -0.18403933\n",
        "  0.05780856 -0.29426332  0.01658587  0.1080497  -0.17147944 -0.24103591\n",
        " -0.32866493  0.06787327  0.05546817 -0.04524969 -0.18163224  0.0480912\n",
        " -0.17280375 -0.12797595  0.07854931 -0.11711102  0.05529639  0.00391007\n",
        " -0.43594092 -0.07413434 -0.13158273 -0.06849783 -0.19614469 -0.22522091\n",
        " -0.01472571 -0.02107193 -0.12289427  0.2519207  -0.06442138 -0.03786198\n",
        " -0.1185064  -0.3429493   0.12954074 -0.01982631  0.47908579  0.04004587\n",
        " -0.00440137 -0.08632346 -0.10877328 -0.33259803 -0.19025943 -0.05594933\n",
        " -0.23546382 -0.16038647  0.24732004 -0.03830824 -0.45386453  0.02269623\n",
        " -0.07041185  0.18492618  0.05190139 -0.08528169  0.07677136  0.01588861\n",
        " -0.3742685  -0.25249614 -0.02994141 -0.05687652 -0.05116325 -0.21939403\n",
        " -0.07365693 -0.0615905   0.20621496  0.04006644  0.1971207  -0.02028318\n",
        " -0.17658222 -0.37925417 -0.30451068  0.24491787  0.22319408 -0.25158056\n",
        " -0.20873673 -0.04469832 -0.25770184 -0.2418692  -0.43628326 -0.05873451\n",
        " -0.01758868  0.05910326 -0.14972877 -0.51606253  0.03261407 -0.0857035\n",
        " -0.11951011  0.21156375 -0.03896971 -0.20545724  0.0869102  -0.19562545\n",
        "  0.00655294 -0.18042495  0.20005628 -0.13324065 -0.16108427 -0.03083069\n",
        " -0.00107594 -0.18598276 -0.26772648  0.11919719 -0.28067267 -0.06266187\n",
        "  0.07329124 -0.20167197 -0.08381591 -0.16182875 -0.04200432  0.15215365\n",
        " -0.17713805 -0.39796339 -0.1634246  -0.13931003 -0.33747753 -0.29765775\n",
        " -0.33362435 -0.25780745 -0.03897885  0.1216759  -0.28785795 -0.18748573\n",
        " -0.01666915 -0.15546089  0.10385537 -0.17995963 -0.33006179 -0.16933213\n",
        " -0.12049436 -0.02790707 -0.20748615 -0.12224382 -0.40840913 -0.26026609]\n",
        "<class 'pandas.core.frame.DataFrame'>\n",
        "Int64Index: 156 entries, 0 to 155\n",
        "Data columns (total 6 columns):\n",
        "ay        156  non-null values\n",
        "radius    156  non-null values\n",
        "vy        156  non-null values\n",
        "x         156  non-null values\n",
        "y         156  non-null values\n",
        "z         156  non-null values\n",
        "dtypes: float64(6)"
       ]
      },
      {
       "output_type": "stream",
       "stream": "stdout",
       "text": [
        "\n"
       ]
      },
      {
       "metadata": {},
       "output_type": "display_data",
       "png": "[encoded data removed]",
       "text": [
        "<matplotlib.figure.Figure at 0x10cd91c50>"
       ]
      },
      {
       "metadata": {},
       "output_type": "display_data",
       "png": "[encoded data removed]",
       "text": [
        "<matplotlib.figure.Figure at 0x10d1d7c90>"
       ]
      }
     ],
     "prompt_number": 34
    },
    {
     "cell_type": "code",
     "collapsed": false,
     "input": [
      "import matplotlib.pyplot as plt"
     ],
     "language": "python",
     "metadata": {},
     "outputs": [],
     "prompt_number": 14
    },
    {
     "cell_type": "code",
     "collapsed": false,
     "input": [
      "import matplotlib as mpl\n"
     ],
     "language": "python",
     "metadata": {},
     "outputs": [],
     "prompt_number": 38
    },
    {
     "cell_type": "code",
     "collapsed": false,
     "input": [
      "mpl.get_configdir()"
     ],
     "language": "python",
     "metadata": {},
     "outputs": [
      {
       "metadata": {},
       "output_type": "pyout",
       "prompt_number": 39,
       "text": [
        "'/Users/lyonwj/.matplotlib'"
       ]
      }
     ],
     "prompt_number": 39
    },
    {
     "cell_type": "code",
     "collapsed": false,
     "input": [],
     "language": "python",
     "metadata": {},
     "outputs": []
    }
   ],
   "metadata": {}
  }
 ]
}